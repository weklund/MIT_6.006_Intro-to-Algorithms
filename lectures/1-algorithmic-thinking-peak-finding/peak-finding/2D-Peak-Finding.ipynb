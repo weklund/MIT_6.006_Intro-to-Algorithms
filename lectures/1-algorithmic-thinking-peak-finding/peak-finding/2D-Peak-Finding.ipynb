{
 "cells": [
  {
   "cell_type": "markdown",
   "metadata": {},
   "source": [
    "# Take a 2D Array and find a peak\n",
    "\n",
    "## To figure out how we're going to find a peak in a 2D, let's start with a 1D array\n"
   ]
  },
  {
   "cell_type": "code",
   "execution_count": 33,
   "metadata": {},
   "outputs": [],
   "source": [
    "example_one = [3, 4, 6, 8, 9, 6, 6, 3, 2, 1]\n",
    "#              0  1  2  3  4  5  6  7  8  9\n",
    "\n",
    "example_two = [11, 8, 4, 6, 5, 4, 2, 6, 3, 2]\n",
    "#              0   1  2  3  4  5  6  7  8  9\n"
   ]
  },
  {
   "cell_type": "code",
   "execution_count": 75,
   "metadata": {},
   "outputs": [],
   "source": [
    "def one_d_peak(array):\n",
    "    if len(array) == 1:\n",
    "        return array[0]\n",
    "    \n",
    "    half = (len(array) // 2) - 1\n",
    "    \n",
    "    if (array[half] < array[half - 1]):\n",
    "        return one_d_peak(array[:half])\n",
    "    elif(array[half] < array[half + 1]):\n",
    "        return one_d_peak(array[half:])\n",
    "    else:\n",
    "        return array[half]\n"
   ]
  },
  {
   "cell_type": "code",
   "execution_count": 77,
   "metadata": {},
   "outputs": [
    {
     "name": "stdout",
     "output_type": "stream",
     "text": [
      "9\n",
      "11\n"
     ]
    }
   ],
   "source": [
    "print(one_d_peak(example_one))\n",
    "print(one_d_peak(example_two))"
   ]
  },
  {
   "cell_type": "markdown",
   "metadata": {},
   "source": [
    "## Now that we have it working with a 1D array, let's try with two"
   ]
  },
  {
   "cell_type": "code",
   "execution_count": 79,
   "metadata": {},
   "outputs": [],
   "source": [
    "two_d_matrix = [\n",
    "    [4, 5, 6, 7, 8, 7, 6, 5, 4, 3, 2],\n",
    "    [5, 6, 7, 8, 9, 8, 7, 6, 5, 4, 3],\n",
    "    [6, 7, 8, 9,10, 9, 8, 7, 6, 5, 4],\n",
    "    [7, 8, 9,10,11,10, 9, 8, 7, 6, 5],\n",
    "    [8, 9,10,11,12,11,10, 9, 8, 7, 6],\n",
    "    [7, 8, 9,10,11,10, 9, 8, 7, 6, 5],\n",
    "    [6, 7, 8, 9,10, 9, 8, 7, 6, 5, 4],\n",
    "    [5, 6, 7, 8, 9, 8, 7, 6, 5, 4, 3],\n",
    "    [4, 5, 6, 7, 8, 7, 6, 5, 4, 3, 2],\n",
    "    [3, 4, 5, 6, 7, 6, 5, 4, 3, 2, 1],\n",
    "    [2, 3, 4, 5, 6, 5, 4, 3, 2, 1, 0]\n",
    "]"
   ]
  },
  {
   "cell_type": "code",
   "execution_count": 80,
   "metadata": {},
   "outputs": [],
   "source": [
    "def find_two_d_peak(multi_array):\n",
    "    return 0"
   ]
  },
  {
   "cell_type": "code",
   "execution_count": 81,
   "metadata": {},
   "outputs": [
    {
     "name": "stdout",
     "output_type": "stream",
     "text": [
      "0\n"
     ]
    }
   ],
   "source": [
    "print(find_two_d_peak(two_d_matrix))"
   ]
  }
 ],
 "metadata": {
  "kernelspec": {
   "display_name": "Python 3",
   "language": "python",
   "name": "python3"
  },
  "language_info": {
   "codemirror_mode": {
    "name": "ipython",
    "version": 3
   },
   "file_extension": ".py",
   "mimetype": "text/x-python",
   "name": "python",
   "nbconvert_exporter": "python",
   "pygments_lexer": "ipython3",
   "version": "3.8.4"
  }
 },
 "nbformat": 4,
 "nbformat_minor": 4
}
